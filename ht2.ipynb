{
 "cells": [
  {
   "cell_type": "markdown",
   "metadata": {},
   "source": [
    "## Task 1 - Preguntas Teóricas\n",
    "Responda a cada de las siguientes preguntas de forma clara y lo más completamente posible.\n",
    "\n",
    "- #### Defina el proceso de decisión de Markov (MDP) y explique sus componentes.\n",
    "Un MDP modela un problema de decisión sequencial en donde el sistema evoluciona en el tiempo y es controlado por un agente. La dinámica del sistema está determinada por una función de transición de probabilidad que mapea estados y acciones a otros estados.\n",
    "Los elementos de un MDP son:\n",
    "- Un conjunto finito de estados S : {s1,...,sn}, donde st denota el estado s ∈ S al tiempo t.\n",
    "- Un conjunto finito de acciones que pueden depender de cada estado, A(s), donde at ∈ A(s) denota la acción realizada en un estado s en el tiempo t.\n",
    "- Una función de recompensa () que regresa un número real indicando lo deseado de estar en un estado s! ∈ S dado que en el estado s ∈ S se realizó la acción a ∈ A(s).\n",
    "- Una función de transición de estados dada como una distribución de probabilidad () que denota la probabilidad de llegar al estado s! ∈ S dado que se tomó la acción a ∈ A(s) en el estado s ∈ S, que también denotaremos como Φ(s, a, s!). Sucar, L. E. (2018)\n",
    "- #### Describa cual es la diferencia entre política, evaluación de políticas, mejora de políticas e iteración de políticas en el contexto de los PDM.\n",
    "- #### Explique el concepto de factor de descuento (gamma) en los MDP. ¿Cómo influye en la toma de decisiones?\n",
    "- #### Analice la diferencia entre los algoritmos de iteración de valores y de iteración de políticas para resolver MDP.\n",
    "- #### ¿Cuáles son algunos desafíos o limitaciones comunes asociados con la resolución de MDP a gran escala? Discuta los enfoques potenciales para abordar estos desafíos.\n",
    "\n",
    "### Referencias:\n",
    "- Sucar, L. E. (2018). Procesos de decisión de Markov y aprendizaje por refuerzo. En Inteligencia Artificial (pp. 536). Alfaomega."
   ]
  },
  {
   "cell_type": "markdown",
   "metadata": {},
   "source": [
    "### Task 2 - Preguntas Analíticas\n",
    "Responda a cada de las siguientes preguntas de forma clara y lo más completamente posible.\n",
    "\n",
    "- #### Analice críticamente los supuestos subyacentes a la propiedad de Markov en los Procesos de Decisión de Markov (MDP). Analice escenarios en los que estos supuestos puedan no ser válidos y sus implicaciones para la toma de decisiones.\n",
    "- #### Explore los desafíos de modelar la incertidumbre en los procesos de decisión de Markov (MDP) y analice estrategias para una toma de decisiones sólida en entornos inciertos."
   ]
  },
  {
   "cell_type": "markdown",
   "metadata": {},
   "source": [
    "### Task 3 - Preguntas Prácticas\n",
    "Desarrolle un agente básico capaz de resolver un problema simplificado del Proceso de Decisión de Markov (MDP).\n",
    "Considere utilizar un ejemplo bien conocido como el entorno 'Frozen Lake'. Proporcione el código Python para el proceso de toma de decisiones del agente basándose únicamente en los principios de los procesos de decisión de Markov. Recuerde que para este tipo de problema, el ambiente es una matriz de 4x4, y las acciones, pueden ser moverse hacia arriba, abajo, derecha, izquierda. Considere que el punto inicial siempre estará en la esquina opuesta del punto de meta. Es decir, puede tener hasta 4 configuraciones diferentes. Por ejemplo, el punto inicial puede estar en la coordenada (0, 0) y el punto de meta en la coordenada en la coordenada (3, 3). Además, la posición de los hoyos debe ser determinada aleatoriamente y no debe superar el ser más de 3. Es decir, si aleatoriamente se decide que sean 2 posiciones de hoyo, las coordenadas de estas deben ser determinadas de forma aleatoria.\n",
    "Asegúrese de usar “seed” para que sus resultados sean consistentes."
   ]
  }
 ],
 "metadata": {
  "language_info": {
   "name": "python"
  },
  "orig_nbformat": 4
 },
 "nbformat": 4,
 "nbformat_minor": 2
}
